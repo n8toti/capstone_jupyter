{
 "cells": [
  {
   "cell_type": "markdown",
   "id": "52f605fe",
   "metadata": {},
   "source": [
    "# Gradient Boosting Regression"
   ]
  },
  {
   "cell_type": "markdown",
   "id": "1863a127",
   "metadata": {},
   "source": [
    "The gradient boosting algorithm represents a forest of a fixed number of decision trees. These tress are called weak learners"
   ]
  },
  {
   "cell_type": "markdown",
   "id": "43bece9e",
   "metadata": {},
   "source": [
    "First we need to load our data-set. [California Covid-19 Hospital data](https://data.ca.gov/dataset/covid-19-hospital-data1) directly from a California.gov data base.\n"
   ]
  },
  {
   "cell_type": "code",
   "execution_count": 6,
   "id": "f61c21ae",
   "metadata": {},
   "outputs": [],
   "source": [
    "import csv\n",
    "import pandas as pd\n",
    "import numpy as np\n",
    "from sklearn.utils import Bunch\n",
    "import warnings\n",
    "warnings.filterwarnings('ignore')"
   ]
  },
  {
   "cell_type": "code",
   "execution_count": 7,
   "id": "b495ad2e",
   "metadata": {},
   "outputs": [],
   "source": [
    "df = pd.read_csv('/home/third/Downloads/covid19hospitalbycounty.csv')"
   ]
  },
  {
   "cell_type": "markdown",
   "id": "5b9641f5",
   "metadata": {},
   "source": [
    "# Features"
   ]
  },
  {
   "cell_type": "markdown",
   "id": "2ef86a1f",
   "metadata": {},
   "source": [
    "- hospitalized_covid_confirmed_patients\n",
    "- hospitalized_suspected_covid_patients\n",
    "- hospitalized_covid_patients\n",
    "- all_hospital_beds\n",
    "- icu_covid_confirmed_patients\n",
    "- icu_suspected_covid_patients"
   ]
  },
  {
   "cell_type": "markdown",
   "id": "f24636e3",
   "metadata": {},
   "source": [
    "# Target\n",
    "- icu_available_beds"
   ]
  },
  {
   "cell_type": "code",
   "execution_count": 8,
   "id": "b5998cb8",
   "metadata": {
    "scrolled": false
   },
   "outputs": [
    {
     "data": {
      "text/html": [
       "<div>\n",
       "<style scoped>\n",
       "    .dataframe tbody tr th:only-of-type {\n",
       "        vertical-align: middle;\n",
       "    }\n",
       "\n",
       "    .dataframe tbody tr th {\n",
       "        vertical-align: top;\n",
       "    }\n",
       "\n",
       "    .dataframe thead th {\n",
       "        text-align: right;\n",
       "    }\n",
       "</style>\n",
       "<table border=\"1\" class=\"dataframe\">\n",
       "  <thead>\n",
       "    <tr style=\"text-align: right;\">\n",
       "      <th></th>\n",
       "      <th>county</th>\n",
       "      <th>todays_date</th>\n",
       "      <th>hospitalized_covid_confirmed_patients</th>\n",
       "      <th>hospitalized_suspected_covid_patients</th>\n",
       "      <th>hospitalized_covid_patients</th>\n",
       "      <th>all_hospital_beds</th>\n",
       "      <th>icu_covid_confirmed_patients</th>\n",
       "      <th>icu_suspected_covid_patients</th>\n",
       "      <th>icu_available_beds</th>\n",
       "    </tr>\n",
       "  </thead>\n",
       "  <tbody>\n",
       "    <tr>\n",
       "      <th>0</th>\n",
       "      <td>Merced</td>\n",
       "      <td>2020-03-29</td>\n",
       "      <td>1.0</td>\n",
       "      <td>7.0</td>\n",
       "      <td>NaN</td>\n",
       "      <td>NaN</td>\n",
       "      <td>0.0</td>\n",
       "      <td>0.0</td>\n",
       "      <td>3.0</td>\n",
       "    </tr>\n",
       "    <tr>\n",
       "      <th>1</th>\n",
       "      <td>Kern</td>\n",
       "      <td>2020-03-29</td>\n",
       "      <td>16.0</td>\n",
       "      <td>57.0</td>\n",
       "      <td>NaN</td>\n",
       "      <td>NaN</td>\n",
       "      <td>8.0</td>\n",
       "      <td>8.0</td>\n",
       "      <td>39.0</td>\n",
       "    </tr>\n",
       "    <tr>\n",
       "      <th>2</th>\n",
       "      <td>Fresno</td>\n",
       "      <td>2020-03-29</td>\n",
       "      <td>8.0</td>\n",
       "      <td>116.0</td>\n",
       "      <td>NaN</td>\n",
       "      <td>NaN</td>\n",
       "      <td>3.0</td>\n",
       "      <td>14.0</td>\n",
       "      <td>22.0</td>\n",
       "    </tr>\n",
       "    <tr>\n",
       "      <th>3</th>\n",
       "      <td>Yuba</td>\n",
       "      <td>2020-03-29</td>\n",
       "      <td>2.0</td>\n",
       "      <td>12.0</td>\n",
       "      <td>NaN</td>\n",
       "      <td>NaN</td>\n",
       "      <td>2.0</td>\n",
       "      <td>4.0</td>\n",
       "      <td>2.0</td>\n",
       "    </tr>\n",
       "    <tr>\n",
       "      <th>4</th>\n",
       "      <td>Trinity</td>\n",
       "      <td>2020-03-29</td>\n",
       "      <td>0.0</td>\n",
       "      <td>0.0</td>\n",
       "      <td>NaN</td>\n",
       "      <td>NaN</td>\n",
       "      <td>0.0</td>\n",
       "      <td>0.0</td>\n",
       "      <td>NaN</td>\n",
       "    </tr>\n",
       "    <tr>\n",
       "      <th>...</th>\n",
       "      <td>...</td>\n",
       "      <td>...</td>\n",
       "      <td>...</td>\n",
       "      <td>...</td>\n",
       "      <td>...</td>\n",
       "      <td>...</td>\n",
       "      <td>...</td>\n",
       "      <td>...</td>\n",
       "      <td>...</td>\n",
       "    </tr>\n",
       "    <tr>\n",
       "      <th>54592</th>\n",
       "      <td>Sonoma</td>\n",
       "      <td>2022-11-28</td>\n",
       "      <td>51.0</td>\n",
       "      <td>20.0</td>\n",
       "      <td>71.0</td>\n",
       "      <td>674.0</td>\n",
       "      <td>3.0</td>\n",
       "      <td>2.0</td>\n",
       "      <td>23.0</td>\n",
       "    </tr>\n",
       "    <tr>\n",
       "      <th>54593</th>\n",
       "      <td>San Bernardino</td>\n",
       "      <td>2022-11-28</td>\n",
       "      <td>166.0</td>\n",
       "      <td>3.0</td>\n",
       "      <td>169.0</td>\n",
       "      <td>3563.0</td>\n",
       "      <td>20.0</td>\n",
       "      <td>0.0</td>\n",
       "      <td>153.0</td>\n",
       "    </tr>\n",
       "    <tr>\n",
       "      <th>54594</th>\n",
       "      <td>Calaveras</td>\n",
       "      <td>2022-11-28</td>\n",
       "      <td>3.0</td>\n",
       "      <td>0.0</td>\n",
       "      <td>3.0</td>\n",
       "      <td>33.0</td>\n",
       "      <td>0.0</td>\n",
       "      <td>0.0</td>\n",
       "      <td>0.0</td>\n",
       "    </tr>\n",
       "    <tr>\n",
       "      <th>54595</th>\n",
       "      <td>Colusa</td>\n",
       "      <td>2022-11-28</td>\n",
       "      <td>0.0</td>\n",
       "      <td>0.0</td>\n",
       "      <td>0.0</td>\n",
       "      <td>30.0</td>\n",
       "      <td>0.0</td>\n",
       "      <td>0.0</td>\n",
       "      <td>0.0</td>\n",
       "    </tr>\n",
       "    <tr>\n",
       "      <th>54596</th>\n",
       "      <td>Napa</td>\n",
       "      <td>2022-11-28</td>\n",
       "      <td>9.0</td>\n",
       "      <td>0.0</td>\n",
       "      <td>9.0</td>\n",
       "      <td>211.0</td>\n",
       "      <td>3.0</td>\n",
       "      <td>0.0</td>\n",
       "      <td>2.0</td>\n",
       "    </tr>\n",
       "  </tbody>\n",
       "</table>\n",
       "<p>54597 rows × 9 columns</p>\n",
       "</div>"
      ],
      "text/plain": [
       "               county todays_date  hospitalized_covid_confirmed_patients  \\\n",
       "0              Merced  2020-03-29                                    1.0   \n",
       "1                Kern  2020-03-29                                   16.0   \n",
       "2              Fresno  2020-03-29                                    8.0   \n",
       "3                Yuba  2020-03-29                                    2.0   \n",
       "4             Trinity  2020-03-29                                    0.0   \n",
       "...               ...         ...                                    ...   \n",
       "54592          Sonoma  2022-11-28                                   51.0   \n",
       "54593  San Bernardino  2022-11-28                                  166.0   \n",
       "54594       Calaveras  2022-11-28                                    3.0   \n",
       "54595          Colusa  2022-11-28                                    0.0   \n",
       "54596            Napa  2022-11-28                                    9.0   \n",
       "\n",
       "       hospitalized_suspected_covid_patients  hospitalized_covid_patients  \\\n",
       "0                                        7.0                          NaN   \n",
       "1                                       57.0                          NaN   \n",
       "2                                      116.0                          NaN   \n",
       "3                                       12.0                          NaN   \n",
       "4                                        0.0                          NaN   \n",
       "...                                      ...                          ...   \n",
       "54592                                   20.0                         71.0   \n",
       "54593                                    3.0                        169.0   \n",
       "54594                                    0.0                          3.0   \n",
       "54595                                    0.0                          0.0   \n",
       "54596                                    0.0                          9.0   \n",
       "\n",
       "       all_hospital_beds  icu_covid_confirmed_patients  \\\n",
       "0                    NaN                           0.0   \n",
       "1                    NaN                           8.0   \n",
       "2                    NaN                           3.0   \n",
       "3                    NaN                           2.0   \n",
       "4                    NaN                           0.0   \n",
       "...                  ...                           ...   \n",
       "54592              674.0                           3.0   \n",
       "54593             3563.0                          20.0   \n",
       "54594               33.0                           0.0   \n",
       "54595               30.0                           0.0   \n",
       "54596              211.0                           3.0   \n",
       "\n",
       "       icu_suspected_covid_patients  icu_available_beds  \n",
       "0                               0.0                 3.0  \n",
       "1                               8.0                39.0  \n",
       "2                              14.0                22.0  \n",
       "3                               4.0                 2.0  \n",
       "4                               0.0                 NaN  \n",
       "...                             ...                 ...  \n",
       "54592                           2.0                23.0  \n",
       "54593                           0.0               153.0  \n",
       "54594                           0.0                 0.0  \n",
       "54595                           0.0                 0.0  \n",
       "54596                           0.0                 2.0  \n",
       "\n",
       "[54597 rows x 9 columns]"
      ]
     },
     "execution_count": 8,
     "metadata": {},
     "output_type": "execute_result"
    }
   ],
   "source": [
    "df.head(len(df))"
   ]
  },
  {
   "cell_type": "markdown",
   "id": "11f9678b",
   "metadata": {},
   "source": [
    "Here is a sample of our data base. We will need to clean this data up. First we will start with replacing all the NaN values with 0's\n"
   ]
  },
  {
   "cell_type": "code",
   "execution_count": 9,
   "id": "8bd9fa88",
   "metadata": {},
   "outputs": [],
   "source": [
    "df = df.fillna(0)"
   ]
  },
  {
   "cell_type": "code",
   "execution_count": 10,
   "id": "1def79bd",
   "metadata": {},
   "outputs": [
    {
     "data": {
      "text/html": [
       "<div>\n",
       "<style scoped>\n",
       "    .dataframe tbody tr th:only-of-type {\n",
       "        vertical-align: middle;\n",
       "    }\n",
       "\n",
       "    .dataframe tbody tr th {\n",
       "        vertical-align: top;\n",
       "    }\n",
       "\n",
       "    .dataframe thead th {\n",
       "        text-align: right;\n",
       "    }\n",
       "</style>\n",
       "<table border=\"1\" class=\"dataframe\">\n",
       "  <thead>\n",
       "    <tr style=\"text-align: right;\">\n",
       "      <th></th>\n",
       "      <th>county</th>\n",
       "      <th>todays_date</th>\n",
       "      <th>hospitalized_covid_confirmed_patients</th>\n",
       "      <th>hospitalized_suspected_covid_patients</th>\n",
       "      <th>hospitalized_covid_patients</th>\n",
       "      <th>all_hospital_beds</th>\n",
       "      <th>icu_covid_confirmed_patients</th>\n",
       "      <th>icu_suspected_covid_patients</th>\n",
       "      <th>icu_available_beds</th>\n",
       "    </tr>\n",
       "  </thead>\n",
       "  <tbody>\n",
       "    <tr>\n",
       "      <th>0</th>\n",
       "      <td>Merced</td>\n",
       "      <td>2020-03-29</td>\n",
       "      <td>1.0</td>\n",
       "      <td>7.0</td>\n",
       "      <td>0.0</td>\n",
       "      <td>0.0</td>\n",
       "      <td>0.0</td>\n",
       "      <td>0.0</td>\n",
       "      <td>3.0</td>\n",
       "    </tr>\n",
       "    <tr>\n",
       "      <th>1</th>\n",
       "      <td>Kern</td>\n",
       "      <td>2020-03-29</td>\n",
       "      <td>16.0</td>\n",
       "      <td>57.0</td>\n",
       "      <td>0.0</td>\n",
       "      <td>0.0</td>\n",
       "      <td>8.0</td>\n",
       "      <td>8.0</td>\n",
       "      <td>39.0</td>\n",
       "    </tr>\n",
       "    <tr>\n",
       "      <th>2</th>\n",
       "      <td>Fresno</td>\n",
       "      <td>2020-03-29</td>\n",
       "      <td>8.0</td>\n",
       "      <td>116.0</td>\n",
       "      <td>0.0</td>\n",
       "      <td>0.0</td>\n",
       "      <td>3.0</td>\n",
       "      <td>14.0</td>\n",
       "      <td>22.0</td>\n",
       "    </tr>\n",
       "    <tr>\n",
       "      <th>3</th>\n",
       "      <td>Yuba</td>\n",
       "      <td>2020-03-29</td>\n",
       "      <td>2.0</td>\n",
       "      <td>12.0</td>\n",
       "      <td>0.0</td>\n",
       "      <td>0.0</td>\n",
       "      <td>2.0</td>\n",
       "      <td>4.0</td>\n",
       "      <td>2.0</td>\n",
       "    </tr>\n",
       "    <tr>\n",
       "      <th>4</th>\n",
       "      <td>Trinity</td>\n",
       "      <td>2020-03-29</td>\n",
       "      <td>0.0</td>\n",
       "      <td>0.0</td>\n",
       "      <td>0.0</td>\n",
       "      <td>0.0</td>\n",
       "      <td>0.0</td>\n",
       "      <td>0.0</td>\n",
       "      <td>0.0</td>\n",
       "    </tr>\n",
       "    <tr>\n",
       "      <th>...</th>\n",
       "      <td>...</td>\n",
       "      <td>...</td>\n",
       "      <td>...</td>\n",
       "      <td>...</td>\n",
       "      <td>...</td>\n",
       "      <td>...</td>\n",
       "      <td>...</td>\n",
       "      <td>...</td>\n",
       "      <td>...</td>\n",
       "    </tr>\n",
       "    <tr>\n",
       "      <th>54592</th>\n",
       "      <td>Sonoma</td>\n",
       "      <td>2022-11-28</td>\n",
       "      <td>51.0</td>\n",
       "      <td>20.0</td>\n",
       "      <td>71.0</td>\n",
       "      <td>674.0</td>\n",
       "      <td>3.0</td>\n",
       "      <td>2.0</td>\n",
       "      <td>23.0</td>\n",
       "    </tr>\n",
       "    <tr>\n",
       "      <th>54593</th>\n",
       "      <td>San Bernardino</td>\n",
       "      <td>2022-11-28</td>\n",
       "      <td>166.0</td>\n",
       "      <td>3.0</td>\n",
       "      <td>169.0</td>\n",
       "      <td>3563.0</td>\n",
       "      <td>20.0</td>\n",
       "      <td>0.0</td>\n",
       "      <td>153.0</td>\n",
       "    </tr>\n",
       "    <tr>\n",
       "      <th>54594</th>\n",
       "      <td>Calaveras</td>\n",
       "      <td>2022-11-28</td>\n",
       "      <td>3.0</td>\n",
       "      <td>0.0</td>\n",
       "      <td>3.0</td>\n",
       "      <td>33.0</td>\n",
       "      <td>0.0</td>\n",
       "      <td>0.0</td>\n",
       "      <td>0.0</td>\n",
       "    </tr>\n",
       "    <tr>\n",
       "      <th>54595</th>\n",
       "      <td>Colusa</td>\n",
       "      <td>2022-11-28</td>\n",
       "      <td>0.0</td>\n",
       "      <td>0.0</td>\n",
       "      <td>0.0</td>\n",
       "      <td>30.0</td>\n",
       "      <td>0.0</td>\n",
       "      <td>0.0</td>\n",
       "      <td>0.0</td>\n",
       "    </tr>\n",
       "    <tr>\n",
       "      <th>54596</th>\n",
       "      <td>Napa</td>\n",
       "      <td>2022-11-28</td>\n",
       "      <td>9.0</td>\n",
       "      <td>0.0</td>\n",
       "      <td>9.0</td>\n",
       "      <td>211.0</td>\n",
       "      <td>3.0</td>\n",
       "      <td>0.0</td>\n",
       "      <td>2.0</td>\n",
       "    </tr>\n",
       "  </tbody>\n",
       "</table>\n",
       "<p>54597 rows × 9 columns</p>\n",
       "</div>"
      ],
      "text/plain": [
       "               county todays_date  hospitalized_covid_confirmed_patients  \\\n",
       "0              Merced  2020-03-29                                    1.0   \n",
       "1                Kern  2020-03-29                                   16.0   \n",
       "2              Fresno  2020-03-29                                    8.0   \n",
       "3                Yuba  2020-03-29                                    2.0   \n",
       "4             Trinity  2020-03-29                                    0.0   \n",
       "...               ...         ...                                    ...   \n",
       "54592          Sonoma  2022-11-28                                   51.0   \n",
       "54593  San Bernardino  2022-11-28                                  166.0   \n",
       "54594       Calaveras  2022-11-28                                    3.0   \n",
       "54595          Colusa  2022-11-28                                    0.0   \n",
       "54596            Napa  2022-11-28                                    9.0   \n",
       "\n",
       "       hospitalized_suspected_covid_patients  hospitalized_covid_patients  \\\n",
       "0                                        7.0                          0.0   \n",
       "1                                       57.0                          0.0   \n",
       "2                                      116.0                          0.0   \n",
       "3                                       12.0                          0.0   \n",
       "4                                        0.0                          0.0   \n",
       "...                                      ...                          ...   \n",
       "54592                                   20.0                         71.0   \n",
       "54593                                    3.0                        169.0   \n",
       "54594                                    0.0                          3.0   \n",
       "54595                                    0.0                          0.0   \n",
       "54596                                    0.0                          9.0   \n",
       "\n",
       "       all_hospital_beds  icu_covid_confirmed_patients  \\\n",
       "0                    0.0                           0.0   \n",
       "1                    0.0                           8.0   \n",
       "2                    0.0                           3.0   \n",
       "3                    0.0                           2.0   \n",
       "4                    0.0                           0.0   \n",
       "...                  ...                           ...   \n",
       "54592              674.0                           3.0   \n",
       "54593             3563.0                          20.0   \n",
       "54594               33.0                           0.0   \n",
       "54595               30.0                           0.0   \n",
       "54596              211.0                           3.0   \n",
       "\n",
       "       icu_suspected_covid_patients  icu_available_beds  \n",
       "0                               0.0                 3.0  \n",
       "1                               8.0                39.0  \n",
       "2                              14.0                22.0  \n",
       "3                               4.0                 2.0  \n",
       "4                               0.0                 0.0  \n",
       "...                             ...                 ...  \n",
       "54592                           2.0                23.0  \n",
       "54593                           0.0               153.0  \n",
       "54594                           0.0                 0.0  \n",
       "54595                           0.0                 0.0  \n",
       "54596                           0.0                 2.0  \n",
       "\n",
       "[54597 rows x 9 columns]"
      ]
     },
     "execution_count": 10,
     "metadata": {},
     "output_type": "execute_result"
    }
   ],
   "source": [
    "df.head(len(df))"
   ]
  },
  {
   "cell_type": "markdown",
   "id": "f93653db",
   "metadata": {},
   "source": [
    "# Counties Included in the Data"
   ]
  },
  {
   "cell_type": "markdown",
   "id": "6f97dfe3",
   "metadata": {},
   "source": [
    "- Alameda\n",
    "- Amador \n",
    "- Butte\n",
    "- Calaveras\n",
    "- Colusa \n",
    "- Contra Costa \n",
    "- Del Norte\n",
    "- El Dorado\n",
    "- Fresno\n",
    "- Glenn\n",
    "- Humboldt\n",
    "- Imperial\n",
    "- Inyo\n",
    "- Kern\n",
    "- Kings\n",
    "- Lake\n",
    "- Lassen\n",
    "- Los Angeles\n",
    "- Madera\n",
    "- Marin\n",
    "- Mariposa\n",
    "- Mendocino\n",
    "- Merced\n",
    "- Modoc\n",
    "- Mono\n",
    "- Monterey\n",
    "- Napa\n",
    "- Nevada\n",
    "- Orange\n",
    "- Placer\n",
    "- Plumas\n",
    "- Riverside\n",
    "- Sacramento\n",
    "- San Benito\n",
    "- San Bernardino\n",
    "- San Diego\n",
    "- San Francisco\n",
    "- San Joaquin\n",
    "- San Luis Obispo\n",
    "- San Mateo\n",
    "- Santa Barbara\n",
    "- Santa Clara\n",
    "- Santa Cruz\n",
    "- Shasta\n",
    "- Siskiyou\n",
    "- Solano\n",
    "- Sonoma\n",
    "- Stanislaus\n",
    "- Sutter\n",
    "- Tehama\n",
    "- Trinity\n",
    "- Tulare\n",
    "- Tuolumne\n",
    "- Ventura\n",
    "- Yolo\n",
    "- Yuba'"
   ]
  },
  {
   "cell_type": "code",
   "execution_count": 11,
   "id": "b17adac5",
   "metadata": {},
   "outputs": [
    {
     "data": {
      "text/html": [
       "<div>\n",
       "<style scoped>\n",
       "    .dataframe tbody tr th:only-of-type {\n",
       "        vertical-align: middle;\n",
       "    }\n",
       "\n",
       "    .dataframe tbody tr th {\n",
       "        vertical-align: top;\n",
       "    }\n",
       "\n",
       "    .dataframe thead th {\n",
       "        text-align: right;\n",
       "    }\n",
       "</style>\n",
       "<table border=\"1\" class=\"dataframe\">\n",
       "  <thead>\n",
       "    <tr style=\"text-align: right;\">\n",
       "      <th></th>\n",
       "      <th>hospitalized_covid_confirmed_patients</th>\n",
       "      <th>hospitalized_suspected_covid_patients</th>\n",
       "      <th>hospitalized_covid_patients</th>\n",
       "      <th>all_hospital_beds</th>\n",
       "      <th>icu_covid_confirmed_patients</th>\n",
       "      <th>icu_suspected_covid_patients</th>\n",
       "      <th>icu_available_beds</th>\n",
       "    </tr>\n",
       "  </thead>\n",
       "  <tbody>\n",
       "    <tr>\n",
       "      <th>0</th>\n",
       "      <td>1.0</td>\n",
       "      <td>7.0</td>\n",
       "      <td>0.0</td>\n",
       "      <td>0.0</td>\n",
       "      <td>0.0</td>\n",
       "      <td>0.0</td>\n",
       "      <td>3.0</td>\n",
       "    </tr>\n",
       "    <tr>\n",
       "      <th>1</th>\n",
       "      <td>16.0</td>\n",
       "      <td>57.0</td>\n",
       "      <td>0.0</td>\n",
       "      <td>0.0</td>\n",
       "      <td>8.0</td>\n",
       "      <td>8.0</td>\n",
       "      <td>39.0</td>\n",
       "    </tr>\n",
       "    <tr>\n",
       "      <th>2</th>\n",
       "      <td>8.0</td>\n",
       "      <td>116.0</td>\n",
       "      <td>0.0</td>\n",
       "      <td>0.0</td>\n",
       "      <td>3.0</td>\n",
       "      <td>14.0</td>\n",
       "      <td>22.0</td>\n",
       "    </tr>\n",
       "    <tr>\n",
       "      <th>3</th>\n",
       "      <td>2.0</td>\n",
       "      <td>12.0</td>\n",
       "      <td>0.0</td>\n",
       "      <td>0.0</td>\n",
       "      <td>2.0</td>\n",
       "      <td>4.0</td>\n",
       "      <td>2.0</td>\n",
       "    </tr>\n",
       "    <tr>\n",
       "      <th>4</th>\n",
       "      <td>0.0</td>\n",
       "      <td>0.0</td>\n",
       "      <td>0.0</td>\n",
       "      <td>0.0</td>\n",
       "      <td>0.0</td>\n",
       "      <td>0.0</td>\n",
       "      <td>0.0</td>\n",
       "    </tr>\n",
       "  </tbody>\n",
       "</table>\n",
       "</div>"
      ],
      "text/plain": [
       "   hospitalized_covid_confirmed_patients  \\\n",
       "0                                    1.0   \n",
       "1                                   16.0   \n",
       "2                                    8.0   \n",
       "3                                    2.0   \n",
       "4                                    0.0   \n",
       "\n",
       "   hospitalized_suspected_covid_patients  hospitalized_covid_patients  \\\n",
       "0                                    7.0                          0.0   \n",
       "1                                   57.0                          0.0   \n",
       "2                                  116.0                          0.0   \n",
       "3                                   12.0                          0.0   \n",
       "4                                    0.0                          0.0   \n",
       "\n",
       "   all_hospital_beds  icu_covid_confirmed_patients  \\\n",
       "0                0.0                           0.0   \n",
       "1                0.0                           8.0   \n",
       "2                0.0                           3.0   \n",
       "3                0.0                           2.0   \n",
       "4                0.0                           0.0   \n",
       "\n",
       "   icu_suspected_covid_patients  icu_available_beds  \n",
       "0                           0.0                 3.0  \n",
       "1                           8.0                39.0  \n",
       "2                          14.0                22.0  \n",
       "3                           4.0                 2.0  \n",
       "4                           0.0                 0.0  "
      ]
     },
     "execution_count": 11,
     "metadata": {},
     "output_type": "execute_result"
    }
   ],
   "source": [
    "df = df._get_numeric_data()\n",
    "df.head()"
   ]
  },
  {
   "cell_type": "markdown",
   "id": "7e3c1f62",
   "metadata": {},
   "source": [
    "Now that we've cleaned up the data we will need to convert it into a numeric array that is suitable for scikit-learn."
   ]
  },
  {
   "cell_type": "code",
   "execution_count": 12,
   "id": "fef1c629",
   "metadata": {},
   "outputs": [],
   "source": [
    "# put the numeric column names in a python list\n",
    "numeric_headers = list(df.columns.values)\n",
    "\n",
    "# create a numpy array with the numeric values for input into scikit-learn\n",
    "numpy_array = df.to_numpy()"
   ]
  },
  {
   "cell_type": "code",
   "execution_count": 13,
   "id": "93b31890",
   "metadata": {},
   "outputs": [],
   "source": [
    "n_samples = len(df) #number of data rows, don't count header\n",
    "n_features = 6 #number of columns for features, don't count target column\n",
    "feature_names = [numeric_headers[0],numeric_headers[1],numeric_headers[2],numeric_headers[4],numeric_headers[4],numeric_headers[5]] \n",
    "target_names = [numeric_headers[6]] \n",
    "data = np.empty((n_samples, n_features))\n",
    "target = np.empty((n_samples), dtype=np.int)\n",
    "\n",
    "for i, sample in enumerate(numpy_array):\n",
    "    data[i] = np.asarray(sample[:-1], dtype=np.float64)\n",
    "    target[i] = np.asarray(sample[-1], dtype=np.int)"
   ]
  },
  {
   "cell_type": "code",
   "execution_count": 14,
   "id": "f13dd675",
   "metadata": {},
   "outputs": [],
   "source": [
    "data = Bunch(data=data, target=target, feature_names = feature_names, target_names = target_names)"
   ]
  },
  {
   "cell_type": "code",
   "execution_count": 15,
   "id": "9bd8dbe3",
   "metadata": {},
   "outputs": [],
   "source": [
    "from sklearn.preprocessing import StandardScaler\n",
    "from sklearn.model_selection import train_test_split\n",
    "from sklearn.pipeline import make_pipeline\n",
    "from sklearn.ensemble import GradientBoostingRegressor\n",
    "from sklearn.decomposition import PCA\n",
    "from sklearn.metrics import mean_squared_error\n",
    "import numpy as np\n",
    "import matplotlib.pyplot as plt\n",
    "from sklearn.inspection import permutation_importance\n",
    "from sklearn.model_selection import GridSearchCV"
   ]
  },
  {
   "cell_type": "code",
   "execution_count": 16,
   "id": "1dea3ae0",
   "metadata": {},
   "outputs": [],
   "source": [
    "#training and test split\n",
    "X_train, X_test, Y_train, Y_test = train_test_split(data.data, data.target, random_state=42, test_size=.1)"
   ]
  },
  {
   "cell_type": "markdown",
   "id": "0ce130dc",
   "metadata": {},
   "source": [
    "# Target Data"
   ]
  },
  {
   "cell_type": "code",
   "execution_count": 17,
   "id": "cb416ddc",
   "metadata": {},
   "outputs": [],
   "source": [
    "y = pd.Series(data.target)"
   ]
  },
  {
   "cell_type": "markdown",
   "id": "4d316fcc",
   "metadata": {},
   "source": [
    "Below we will be standardizing the features by removing the mean and scaling to the unit variance calculated as:\n",
    "z = (x - u) / s"
   ]
  },
  {
   "cell_type": "code",
   "execution_count": 18,
   "id": "92c6b4bc",
   "metadata": {},
   "outputs": [],
   "source": [
    "#standardize data set\n",
    "sc = StandardScaler()\n",
    "X_train_std = sc.fit_transform(X_train)\n",
    "X_test_std = sc.transform(X_test)"
   ]
  },
  {
   "cell_type": "markdown",
   "id": "0e583b2c",
   "metadata": {},
   "source": [
    "# Target Predictions"
   ]
  },
  {
   "cell_type": "markdown",
   "id": "1d3c6068",
   "metadata": {},
   "source": [
    "# Hyperparameters"
   ]
  },
  {
   "cell_type": "code",
   "execution_count": 19,
   "id": "4df79163",
   "metadata": {},
   "outputs": [],
   "source": [
    "#Hyperparameters for GradientBoost\n",
    "gbr_params = {'n_estimators': 10000,\n",
    "                    'max_depth': 2,\n",
    "                    'min_samples_split': 2,\n",
    "                    'learning_rate': 0.01,\n",
    "                    'loss': 'squared_error'}"
   ]
  },
  {
   "cell_type": "code",
   "execution_count": 20,
   "id": "098ddc14",
   "metadata": {},
   "outputs": [
    {
     "name": "stdout",
     "output_type": "stream",
     "text": [
      "Model Accuracy: 97.78%\n",
      "The mean squared error (MSE) on test set: 221.26\n"
     ]
    }
   ],
   "source": [
    "# Create an instance of gradient boosting regressor\n",
    "#\n",
    "gbr = GradientBoostingRegressor(**gbr_params)\n",
    "#\n",
    "# Fit the model\n",
    "#\n",
    "gbr.fit(X_train_std, Y_train)\n",
    "#\n",
    "# Print Coefficient of determination R^2\n",
    "#\n",
    "print(\"Model Accuracy: {0:.2f}%\".format(gbr.score(X_test_std, Y_test)* 100))\n",
    "#\n",
    "# Create the mean squared error\n",
    "#\n",
    "mse = mean_squared_error(Y_test, gbr.predict(X_test_std))\n",
    "\n",
    "print(\"The mean squared error (MSE) on test set: {:.2f}\".format(mse))"
   ]
  },
  {
   "cell_type": "raw",
   "id": "b6d211ce",
   "metadata": {},
   "source": [
    "Our model Accuracy score takes all of the counties data and uses it as a whole to predict our target with an accuracy of much higher than anticipated. I predicted an accuracy rating between 80-85%. Here we have a model accuracy of ~98.23% and a mean squared error of ~173.13. As the training is random the results may vary."
   ]
  },
  {
   "cell_type": "markdown",
   "id": "6abd3959",
   "metadata": {},
   "source": [
    "# Predictions\n",
    "Here is an array of our predictions"
   ]
  },
  {
   "cell_type": "code",
   "execution_count": 21,
   "id": "ad4ef924",
   "metadata": {},
   "outputs": [
    {
     "data": {
      "text/plain": [
       "array([ 0.60288064, 14.92058963,  2.96656128, ...,  1.09701528,\n",
       "        2.86675143,  0.64347802])"
      ]
     },
     "execution_count": 21,
     "metadata": {},
     "output_type": "execute_result"
    }
   ],
   "source": [
    "gbr.predict(X_test_std)"
   ]
  },
  {
   "cell_type": "code",
   "execution_count": 22,
   "id": "8e2be283",
   "metadata": {},
   "outputs": [
    {
     "data": {
      "image/png": "[encoded data removed]",
      "text/plain": [
       "<Figure size 1000x1000 with 1 Axes>"
      ]
     },
     "metadata": {},
     "output_type": "display_data"
    }
   ],
   "source": [
    "plt.figure(figsize=(10,10))\n",
    "plt.scatter(Y_test, gbr.predict(X_test_std), c='crimson')\n",
    "plt.yscale('log')\n",
    "plt.xscale('log')\n",
    "p1 = max(max(gbr.predict(X_test_std)), max(Y_test))\n",
    "p2 = min(min(gbr.predict(X_test_std)), min(Y_test))\n",
    "plt.plot([p1, p2], [p1, p2], 'b-')\n",
    "plt.xlabel('True Values', fontsize=15)\n",
    "plt.ylabel('Predictions', fontsize=15)\n",
    "plt.axis('equal')\n",
    "plt.show()"
   ]
  },
  {
   "cell_type": "markdown",
   "id": "a715e4b9",
   "metadata": {},
   "source": [
    "Above is a a plot grah of our predictions compared to our test cases. Gradient boosting model is considered a weak learner. The more trees we build the more accurate the model as seen in the graph above."
   ]
  },
  {
   "cell_type": "markdown",
   "id": "31cb5f06",
   "metadata": {},
   "source": [
    "# Hyperparameter Tuning"
   ]
  },
  {
   "cell_type": "code",
   "execution_count": null,
   "id": "833cd48e",
   "metadata": {},
   "outputs": [],
   "source": [
    "LR = {'learning_rate':[0.15,0.099,0.5,.01], 'n_estimators':[169,200,500,1000], 'max_depth':[1,2,3,4]}\n",
    "tuning = GridSearchCV(estimator=GradientBoostingRegressor(), param_grid = LR, scoring='r2')\n",
    "tuning.fit(X_train,Y_train)\n",
    "tuning.best_params_, tuning.best_score_"
   ]
  },
  {
   "cell_type": "markdown",
   "id": "872a78a4",
   "metadata": {},
   "source": [
    "# Feature Importance"
   ]
  },
  {
   "cell_type": "code",
   "execution_count": null,
   "id": "791bd734",
   "metadata": {},
   "outputs": [],
   "source": [
    "feature_importance = gbr.feature_importances_\n",
    "sorted_idx = np.argsort(feature_importance)\n",
    "pos = np.arange(sorted_idx.shape[0]) + .5\n",
    "fig = plt.figure(figsize=(8, 8))\n",
    "plt.barh(pos, feature_importance[sorted_idx], align='center')\n",
    "plt.yticks(pos, np.array(data.feature_names)[sorted_idx])\n",
    "plt.title('Feature Importance')\n",
    "result = permutation_importance(gbr, X_test_std, Y_test, n_repeats=10,random_state=42, n_jobs=2)\n",
    "sorted_idx = result.importances_mean.argsort()\n",
    "fig.tight_layout()\n",
    "plt.show()"
   ]
  },
  {
   "cell_type": "markdown",
   "id": "12e29a33",
   "metadata": {},
   "source": [
    "# Training and Test Deviance"
   ]
  },
  {
   "cell_type": "code",
   "execution_count": 365,
   "id": "c9617b58",
   "metadata": {},
   "outputs": [
    {
     "data": {
      "image/png": "[encoded data removed]",
      "text/plain": [
       "<Figure size 800x800 with 1 Axes>"
      ]
     },
     "metadata": {},
     "output_type": "display_data"
    }
   ],
   "source": [
    "#Training and Test Deviance\n",
    "test_score = np.zeros((gbr_params['n_estimators'],), dtype=np.float64)\n",
    "for i, y_pred in enumerate(gbr.staged_predict(X_test_std)):\n",
    "    test_score[i] = gbr.loss_(Y_test, y_pred)\n",
    "fig = plt.figure(figsize=(8, 8))\n",
    "plt.subplot(1, 1, 1)\n",
    "plt.title('Deviance')\n",
    "plt.plot(np.arange(gbr_params['n_estimators']) + 1, gbr.train_score_, 'b-',label='Training Set Deviance')\n",
    "plt.plot(np.arange(gbr_params['n_estimators']) + 1, test_score, 'r-',label='Test Set Deviance')\n",
    "plt.legend(loc='upper right')\n",
    "plt.xlabel('Boosting Iterations')\n",
    "plt.ylabel('Deviance')\n",
    "fig.tight_layout()\n",
    "plt.show()"
   ]
  },
  {
   "cell_type": "markdown",
   "id": "ec8f0a33",
   "metadata": {},
   "source": [
    "# Interactive\n",
    "Run the next block and type in one of the Counties listed below."
   ]
  },
  {
   "cell_type": "markdown",
   "id": "093024a3",
   "metadata": {},
   "source": [
    "\n",
    "    Alameda\n",
    "    Amador\n",
    "    Butte\n",
    "    Calaveras\n",
    "    Colusa\n",
    "    Contra Costa\n",
    "    Del Norte\n",
    "    El Dorado\n",
    "    Fresno\n",
    "    Glenn\n",
    "    Humboldt\n",
    "    Imperial\n",
    "    Inyo\n",
    "    Kern\n",
    "    Kings\n",
    "    Lake\n",
    "    Lassen\n",
    "    Los Angeles\n",
    "    Madera\n",
    "    Marin\n",
    "    Mariposa\n",
    "    Mendocino\n",
    "    Merced\n",
    "    Modoc\n",
    "    Mono\n",
    "    Monterey\n",
    "    Napa\n",
    "    Nevada\n",
    "    Orange\n",
    "    Placer\n",
    "    Plumas\n",
    "    Riverside\n",
    "    Sacramento\n",
    "    San Benito\n",
    "    San Bernardino\n",
    "    San Diego\n",
    "    San Francisco\n",
    "    San Joaquin\n",
    "    San Luis Obispo\n",
    "    San Mateo\n",
    "    Santa Barbara\n",
    "    Santa Clara\n",
    "    Santa Cruz\n",
    "    Shasta\n",
    "    Siskiyou\n",
    "    Solano\n",
    "    Sonoma\n",
    "    Stanislaus\n",
    "    Sutter\n",
    "    Tehama\n",
    "    Trinity\n",
    "    Tulare\n",
    "    Tuolumne\n",
    "    Ventura\n",
    "    Yolo\n",
    "    Yuba\n",
    "\n"
   ]
  },
  {
   "cell_type": "markdown",
   "id": "621a2723",
   "metadata": {},
   "source": [
    "# County Specific Model with Tuning Capabilities at the bottom"
   ]
  },
  {
   "cell_type": "markdown",
   "id": "ade53b8c",
   "metadata": {},
   "source": [
    "Enter a valid county from the list above."
   ]
  },
  {
   "cell_type": "code",
   "execution_count": 384,
   "id": "100ed645",
   "metadata": {},
   "outputs": [
    {
     "name": "stdout",
     "output_type": "stream",
     "text": [
      "Enter a county from above: Orange\n"
     ]
    }
   ],
   "source": [
    "county = input(\"Enter a county from above: \")"
   ]
  },
  {
   "cell_type": "markdown",
   "id": "6f1db9db",
   "metadata": {},
   "source": [
    "Load and clean the data."
   ]
  },
  {
   "cell_type": "code",
   "execution_count": 385,
   "id": "2a964a8d",
   "metadata": {},
   "outputs": [],
   "source": [
    "df2 = pd.read_csv('/home/third/Downloads/covid19hospitalbycounty.csv')"
   ]
  },
  {
   "cell_type": "code",
   "execution_count": 386,
   "id": "a0d8329b",
   "metadata": {},
   "outputs": [],
   "source": [
    "df2 = df2.fillna(0)"
   ]
  },
  {
   "cell_type": "markdown",
   "id": "9577e5a5",
   "metadata": {},
   "source": [
    "Creates a list of counties."
   ]
  },
  {
   "cell_type": "code",
   "execution_count": 387,
   "id": "605273ff",
   "metadata": {},
   "outputs": [],
   "source": [
    "unique_counties = []\n",
    "ul = df2['county'].to_list()\n",
    "for i in ul:\n",
    "    if i not in unique_counties:\n",
    "        unique_counties.append(i)"
   ]
  },
  {
   "cell_type": "markdown",
   "id": "4870f3b5",
   "metadata": {},
   "source": [
    "Validate input."
   ]
  },
  {
   "cell_type": "code",
   "execution_count": 388,
   "id": "7fc1d921",
   "metadata": {},
   "outputs": [],
   "source": [
    "if county in unique_counties:\n",
    "    df2 = df2[df2.county == county]\n",
    "else:\n",
    "    print('Please enter a valid county. Case Sensitive')"
   ]
  },
  {
   "cell_type": "code",
   "execution_count": 389,
   "id": "de02a61a",
   "metadata": {},
   "outputs": [],
   "source": [
    "df2.head()\n",
    "df2 = df2._get_numeric_data()"
   ]
  },
  {
   "cell_type": "code",
   "execution_count": 390,
   "id": "3929d4a0",
   "metadata": {},
   "outputs": [
    {
     "name": "stdout",
     "output_type": "stream",
     "text": [
      "Model Accuracy: 34.50%\n",
      "The mean squared error (MSE) on test set: 161174883.84\n"
     ]
    }
   ],
   "source": [
    "# put the numeric column names in a python list\n",
    "numeric_headers2 = list(df2.columns.values)\n",
    "\n",
    "# create a numpy array with the numeric values for input into scikit-learn\n",
    "numpy_array2 = df2.to_numpy()\n",
    "\n",
    "n_samples2 = len(df) #number of data rows, don't count header\n",
    "n_features2 = 6 #number of columns for features, don't count target column\n",
    "feature_names2 = [numeric_headers[0],numeric_headers[1],numeric_headers[2],numeric_headers[4],numeric_headers[4],numeric_headers[5]] \n",
    "target_names2 = [numeric_headers[6]] \n",
    "data2 = np.empty((n_samples, n_features))\n",
    "target2 = np.empty((n_samples), dtype=np.int)\n",
    "\n",
    "for i, sample in enumerate(numpy_array2):\n",
    "    data2[i] = np.asarray(sample[:-1], dtype=np.float64)\n",
    "    target2[i] = np.asarray(sample[-1], dtype=np.int)\n",
    "data2 = Bunch(data2=data2, target2=target2, feature_names2 = feature_names2, target_names2 = target_names2)\n",
    "\n",
    "#training and test split\n",
    "X_train2, X_test2, Y_train2, Y_test2 = train_test_split(data2.data2, data2.target2, random_state=42, test_size=.1)\n",
    "\n",
    "#standardize data set\n",
    "sc2 = StandardScaler()\n",
    "X_train_std2 = sc2.fit_transform(X_train2)\n",
    "X_test_std2 = sc2.transform(X_test2)\n",
    "\n",
    "#Hyperparameters for GradientBoost\n",
    "gbr_params2 = {'n_estimators': 100,\n",
    "                    'max_depth': 2,\n",
    "                    'min_samples_split': 2,\n",
    "                    'learning_rate': 0.099,\n",
    "                    'loss': 'squared_error'}\n",
    "\n",
    "# Create an instance of gradient boosting regressor\n",
    "gbr2 = GradientBoostingRegressor(**gbr_params2)\n",
    "\n",
    "# Fit the model\n",
    "gbr2.fit(X_train_std2, Y_train2)\n",
    "\n",
    "# Print Coefficient of determination R^2\n",
    "\n",
    "print(\"Model Accuracy: {0:.2f}%\".format(gbr2.score(X_test_std2, Y_test2)* 100))\n",
    "\n",
    "# Create the mean squared error\n",
    "mse2 = mean_squared_error(Y_test2, gbr2.predict(X_test_std2))\n",
    "\n",
    "\n",
    "print(\"The mean squared error (MSE) on test set: {:.2f}\".format(mse2))"
   ]
  },
  {
   "cell_type": "code",
   "execution_count": 394,
   "id": "67d45b12",
   "metadata": {},
   "outputs": [
    {
     "data": {
      "image/png": "[encoded data removed]",
      "text/plain": [
       "<Figure size 800x800 with 1 Axes>"
      ]
     },
     "metadata": {},
     "output_type": "display_data"
    }
   ],
   "source": [
    "#Training and Test Deviance\n",
    "test_score = np.zeros((gbr_params2['n_estimators'],), dtype=np.float64)\n",
    "for i, y_pred in enumerate(gbr2.staged_predict(X_test_std2)):\n",
    "    test_score[i] = gbr2.loss_(Y_test2, y_pred)\n",
    "fig = plt.figure(figsize=(8, 8))\n",
    "plt.subplot(1, 1, 1)\n",
    "plt.title('Deviance')\n",
    "plt.plot(np.arange(gbr_params2['n_estimators']) + 1, gbr2.train_score_, 'b-',label='Training Set Deviance')\n",
    "plt.plot(np.arange(gbr_params2['n_estimators']) + 1, test_score, 'r-',label='Test Set Deviance')\n",
    "plt.legend(loc='upper right')\n",
    "plt.xlabel('Boosting Iterations')\n",
    "plt.ylabel('Deviance')\n",
    "fig.tight_layout()\n",
    "plt.show()"
   ]
  },
  {
   "cell_type": "markdown",
   "id": "7664899d",
   "metadata": {},
   "source": [
    "# Hyperparameter Testing"
   ]
  },
  {
   "cell_type": "code",
   "execution_count": 362,
   "id": "28f761be",
   "metadata": {},
   "outputs": [
    {
     "data": {
      "text/plain": [
       "({'learning_rate': 0.099, 'max_depth': 1, 'n_estimators': 20},\n",
       " 0.0020610479395428037)"
      ]
     },
     "execution_count": 362,
     "metadata": {},
     "output_type": "execute_result"
    }
   ],
   "source": [
    "LR = {'learning_rate':[0.099,0.5,.01], 'n_estimators':[10,20,40,80], 'max_depth':[1,2,3,4]}\n",
    "tuning = GridSearchCV(estimator=GradientBoostingRegressor(), param_grid = LR, scoring='r2')\n",
    "tuning.fit(X_train2,Y_train2)\n",
    "tuning.best_params_, tuning.best_score_"
   ]
  }
 ],
 "metadata": {
  "kernelspec": {
   "display_name": "Python 3 (ipykernel)",
   "language": "python",
   "name": "python3"
  },
  "language_info": {
   "codemirror_mode": {
    "name": "ipython",
    "version": 3
   },
   "file_extension": ".py",
   "mimetype": "text/x-python",
   "name": "python",
   "nbconvert_exporter": "python",
   "pygments_lexer": "ipython3",
   "version": "3.10.6"
  }
 },
 "nbformat": 4,
 "nbformat_minor": 5
}
